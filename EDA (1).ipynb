{
  "nbformat": 4,
  "nbformat_minor": 0,
  "metadata": {
    "colab": {
      "private_outputs": true,
      "provenance": []
    },
    "kernelspec": {
      "name": "python3",
      "display_name": "Python 3"
    },
    "language_info": {
      "name": "python"
    }
  },
  "cells": [
    {
      "cell_type": "code",
      "execution_count": null,
      "metadata": {
        "id": "iEIrbAAaVlw6"
      },
      "outputs": [],
      "source": [
        "import seaborn as sns\n",
        "import matplotlib.pyplot as plt\n",
        "import pandas as pd\n",
        "import numpy as np"
      ]
    },
    {
      "cell_type": "code",
      "source": [
        "sns.get_dataset_names()"
      ],
      "metadata": {
        "id": "X6J_ETfnWVHD"
      },
      "execution_count": null,
      "outputs": []
    },
    {
      "cell_type": "code",
      "source": [
        "data = sns.load_dataset('tips')\n",
        "data.head()"
      ],
      "metadata": {
        "id": "9KIHzLdmWbNd"
      },
      "execution_count": null,
      "outputs": []
    },
    {
      "cell_type": "markdown",
      "source": [
        "sns.barplot(x)"
      ],
      "metadata": {
        "id": "_RW_2j6-Wuq0"
      }
    },
    {
      "cell_type": "code",
      "source": [
        "data1 = pd.read_excel(\"/content/Sample Superstore.xlsx\")\n",
        "data1[:5]"
      ],
      "metadata": {
        "id": "J9zGgv3bXQVG"
      },
      "execution_count": null,
      "outputs": []
    },
    {
      "cell_type": "code",
      "source": [
        "#Univaraite analysis\n",
        "plt.figure(figsize=(6,6))\n",
        "sns.countplot(x=data1['Product Category'], color='g')\n",
        "plt.title(\"Product Category count plot\")\n",
        "plt.show()"
      ],
      "metadata": {
        "id": "PrC26NcGW35V"
      },
      "execution_count": null,
      "outputs": []
    },
    {
      "cell_type": "code",
      "source": [
        "#Bivariate analysis\n",
        "plt.figure(figsize=(6,6))\n",
        "sns.countplot(x=data1['Region'], hue=data1['Product Category'] , color='g')\n",
        "plt.title(\"Product Category count plot\")\n",
        "plt.show()"
      ],
      "metadata": {
        "id": "aVrzUESeZFUb"
      },
      "execution_count": null,
      "outputs": []
    },
    {
      "cell_type": "code",
      "source": [
        "#Multivariate analysis\n",
        "plt.figure(figsize=(6,6))\n",
        "sns.scatterplot(x=data1['Sales'], y=data1['Profit'], hue=data1['Region'])\n",
        "plt.title(\"Product Category count plot\")\n",
        "plt.show()"
      ],
      "metadata": {
        "id": "h1BEruP8Z0J6"
      },
      "execution_count": null,
      "outputs": []
    },
    {
      "cell_type": "code",
      "source": [
        "data.head()"
      ],
      "metadata": {
        "id": "XfnA-LjJb-Pr"
      },
      "execution_count": null,
      "outputs": []
    },
    {
      "cell_type": "code",
      "source": [
        "#Bivariate analysis\n",
        "sns.boxplot(y=data['tip'], hue=data['sex'])"
      ],
      "metadata": {
        "id": "jArohCQdcCDf"
      },
      "execution_count": null,
      "outputs": []
    },
    {
      "cell_type": "code",
      "source": [
        "#univariate analysis\n",
        "sns.histplot(y=data['total_bill'])"
      ],
      "metadata": {
        "id": "Ce6QAuDVeiPQ"
      },
      "execution_count": null,
      "outputs": []
    },
    {
      "cell_type": "code",
      "source": [
        "#Bivariate analysis\n",
        "sns.countplot(x='smoker', hue='day', data=data)"
      ],
      "metadata": {
        "id": "D3MqLs5Nf8xi"
      },
      "execution_count": null,
      "outputs": []
    },
    {
      "cell_type": "code",
      "source": [
        "#Bivariate analysis using order argument\n",
        "sns.countplot(x='smoker', hue='day', data=data , order=['No', 'Yes'])"
      ],
      "metadata": {
        "id": "aBcb5t_RliaF"
      },
      "execution_count": null,
      "outputs": []
    },
    {
      "cell_type": "code",
      "source": [
        "#univaraite analysis\n",
        "sns.violinplot(y=data['tip'])"
      ],
      "metadata": {
        "id": "7-ViefYYgzmn"
      },
      "execution_count": null,
      "outputs": []
    },
    {
      "cell_type": "code",
      "source": [
        "#Bivariate analysis\n",
        "sns.violinplot(y=data['tip'], hue=data['sex']);"
      ],
      "metadata": {
        "id": "kQ7WlmLHl0jJ"
      },
      "execution_count": null,
      "outputs": []
    },
    {
      "cell_type": "code",
      "source": [
        "#dataframe for create heatmap\n",
        "data2= data[['total_bill', 'tip', 'size']]\n",
        "data2.head()"
      ],
      "metadata": {
        "id": "wy4O1k_ShoxL"
      },
      "execution_count": null,
      "outputs": []
    },
    {
      "cell_type": "code",
      "source": [
        "corr =data2.corr()\n",
        "corr"
      ],
      "metadata": {
        "id": "dEz4uQwbhwOm"
      },
      "execution_count": null,
      "outputs": []
    },
    {
      "cell_type": "code",
      "source": [
        "#Bivariate analysis\n",
        "plt.figure(figsize=(5,5))\n",
        "sns.heatmap(corr, annot=True, fmt='.1f')"
      ],
      "metadata": {
        "id": "MUMQ6ETUiQjJ"
      },
      "execution_count": null,
      "outputs": []
    }
  ]
}